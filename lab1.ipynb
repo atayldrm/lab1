{
 "cells": [
  {
   "cell_type": "markdown",
   "id": "b7987b73",
   "metadata": {},
   "source": [
    "\n",
    "# Iceland\n",
    "<img src=\"https://upload.wikimedia.org/wikipedia/commons/thumb/0/0d/Reykjavik%2C_Iceland%2C_OCT_2009.jpg/180px-Reykjavik%2C_Iceland%2C_OCT_2009.jpg\" width=\"250\">\n",
    "\n",
    "#### *Geography*\n",
    "[Iceland](https://en.wikipedia.org/wiki/Iceland), island country located in the North Atlantic Ocean. Lying on the constantly active geologic border between North America and Europe\n",
    "#### *Climate and environment*\n",
    "Iceland has a coastal climate which balances between cold polar currents and the warm Gulf Stream. The summers are cool and the winters are mild. The average temperature in Reykjavík is +0.4°C in January and 12.5°C in July. The average for the whole year is 5.5°C. The northern coast and most inland areas have a tundra climate.\n",
    "* Ice caps and glaciers: 10,500 km²\n",
    "* Average temperature in Reykjavík (2020): 5.1°C (max. 21.4°C, min. -10.0°C)\n",
    "* Precipitation in Reykjavik (2007): 890 mm\n",
    "#### *Economy*\n",
    "Fish and fishery products are still the country’s main source of income, followed by aluminium and ferrosilicon exports. In recent years, growth has been recorded in sectors such as biotechnology, software and tourism.\n",
    "* GDP per capita: € 37,100 (2020)\n",
    "* Currency: Icelandic krona (ISK)\n",
    "#### *Population*\n",
    "The current population of Iceland is 344,895 based on projections of the latest United Nations data. The UN estimates the July 1, 2022 population at **345,393**.\n",
    "\n",
    "### Celebrities\n",
    "<div style=\"color:red;\">Icelandic celebreties </div> \n",
    "\n",
    "| Name  | Profession | Gender |\n",
    "|------|----|-----------------|\n",
    "| [Björk Guðmundsdóttir](https://en.wikipedia.org/wiki/Bj%C3%B6rk)| Singer | Woman |\n",
    "| [Vigdís Finnbogadóttir](https://en.wikipedia.org/wiki/Vigd%C3%ADs_Finnbogad%C3%B3ttir) | President | Woman |\n",
    "|[Hafþór Júlíus Björnsson](https://en.wikipedia.org/wiki/Haf%C3%BE%C3%B3r_J%C3%BAl%C3%ADus_Bj%C3%B6rnsson) | Storngman| Man |\n",
    "\n"
   ]
  },
  {
   "cell_type": "code",
   "execution_count": 1,
   "id": "505f3df2",
   "metadata": {
    "scrolled": false
   },
   "outputs": [
    {
     "data": {
      "text/html": [
       "<svg width=\"400\" height=\"180\">\n",
       "  <rect x=\"60\" y=\"20\" width=\"250\" height=\"150\"\n",
       "  style=\"fill:blue;\" />\n",
       "  <rect x=\"60\" y=\"80\" width=\"250\" height=\"30\"\n",
       "  style=\"fill:white;\" />\n",
       "  <rect x=\"110\" y=\"20\" width=\"30\" height=\"150\"\n",
       "  style=\"fill:white;\" />\n",
       "  <rect x=\"60\" y=\"88\" width=\"250\" height=\"15\"\n",
       "  style=\"fill:red;\" />\n",
       "  \n",
       "  <rect x=\"118\" y=\"20\" width=\"15\" height=\"150\"\n",
       "  style=\"fill:red;\" />\n",
       "</svg>\n",
       "\n"
      ],
      "text/plain": [
       "<IPython.core.display.HTML object>"
      ]
     },
     "metadata": {},
     "output_type": "display_data"
    }
   ],
   "source": [
    "%%HTML\n",
    "<svg width=\"400\" height=\"180\">\n",
    "  <rect x=\"60\" y=\"20\" width=\"250\" height=\"150\"\n",
    "  style=\"fill:blue;\" />\n",
    "  <rect x=\"60\" y=\"80\" width=\"250\" height=\"30\"\n",
    "  style=\"fill:white;\" />\n",
    "  <rect x=\"110\" y=\"20\" width=\"30\" height=\"150\"\n",
    "  style=\"fill:white;\" />\n",
    "  <rect x=\"60\" y=\"88\" width=\"250\" height=\"15\"\n",
    "  style=\"fill:red;\" />\n",
    "  \n",
    "  <rect x=\"118\" y=\"20\" width=\"15\" height=\"150\"\n",
    "  style=\"fill:red;\" />\n",
    "</svg>\n",
    "\n"
   ]
  },
  {
   "cell_type": "code",
   "execution_count": 12,
   "id": "e44b5d2b",
   "metadata": {},
   "outputs": [
    {
     "name": "stdout",
     "output_type": "stream",
     "text": [
      "Enter a decimal number: 1\n",
      "1"
     ]
    }
   ],
   "source": [
    "def decimalToBinary(num):\n",
    "    if num > 1:\n",
    "        decimalToBinary(num // 2)\n",
    "    print(num % 2, end='')\n",
    "    \n",
    "number = int(input(\"Enter a decimal number: \"))\n",
    "\n",
    "decimalToBinary(number)"
   ]
  },
  {
   "cell_type": "code",
   "execution_count": null,
   "id": "64de32df",
   "metadata": {},
   "outputs": [],
   "source": []
  },
  {
   "cell_type": "code",
   "execution_count": null,
   "id": "5928e5c9",
   "metadata": {},
   "outputs": [],
   "source": []
  }
 ],
 "metadata": {
  "kernelspec": {
   "display_name": "Python 3 (ipykernel)",
   "language": "python",
   "name": "python3"
  },
  "language_info": {
   "codemirror_mode": {
    "name": "ipython",
    "version": 3
   },
   "file_extension": ".py",
   "mimetype": "text/x-python",
   "name": "python",
   "nbconvert_exporter": "python",
   "pygments_lexer": "ipython3",
   "version": "3.10.2"
  }
 },
 "nbformat": 4,
 "nbformat_minor": 5
}
